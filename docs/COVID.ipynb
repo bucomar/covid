{
 "cells": [
  {
   "cell_type": "markdown",
   "metadata": {},
   "source": [
    "# COVID 19 grafikon Pythonnal meg Jupyter Notebook-kal."
   ]
  },
  {
   "cell_type": "markdown",
   "metadata": {},
   "source": [
    "Szükséges csomagok importálása."
   ]
  },
  {
   "cell_type": "code",
   "execution_count": 1,
   "metadata": {},
   "outputs": [],
   "source": [
    "import pandas as pd\n",
    "from bokeh.plotting import figure\n",
    "from bokeh.io import output_file, show\n",
    "from bokeh.models import HoverTool\n",
    "from bokeh.io import output_notebook"
   ]
  },
  {
   "cell_type": "raw",
   "metadata": {},
   "source": [
    "Országok és lakosságuk."
   ]
  },
  {
   "cell_type": "code",
   "execution_count": 2,
   "metadata": {},
   "outputs": [
    {
     "name": "stdout",
     "output_type": "stream",
     "text": [
      "['Hungary', 'Germany']\n",
      "[1000, 8300]\n"
     ]
    }
   ],
   "source": [
    "countryes = ['Hungary', 'Germany']\n",
    "pop = [1000, 8300]\n",
    "\n",
    "print(countryes)\n",
    "print(pop)"
   ]
  },
  {
   "cell_type": "markdown",
   "metadata": {},
   "source": [
    "Adatforrások\n",
    "https://data.humdata.org/dataset/novel-coronavirus-2019-ncov-cases"
   ]
  },
  {
   "cell_type": "code",
   "execution_count": 3,
   "metadata": {},
   "outputs": [],
   "source": [
    "url_c = 'https://data.humdata.org/hxlproxy/api/data-preview.csv?url=https%3A%2F%2Fraw.githubusercontent.com%2FCSSEGISandData%2FCOVID-19%2Fmaster%2Fcsse_covid_19_data%2Fcsse_covid_19_time_series%2Ftime_series_covid19_confirmed_global.csv&filename=time_series_covid19_confirmed_global.csv'\n",
    "url_d = 'https://data.humdata.org/hxlproxy/api/data-preview.csv?url=https%3A%2F%2Fraw.githubusercontent.com%2FCSSEGISandData%2FCOVID-19%2Fmaster%2Fcsse_covid_19_data%2Fcsse_covid_19_time_series%2Ftime_series_covid19_deaths_global.csv&filename=time_series_covid19_deaths_global.csv'\n",
    "url_r = 'https://data.humdata.org/hxlproxy/api/data-preview.csv?url=https%3A%2F%2Fraw.githubusercontent.com%2FCSSEGISandData%2FCOVID-19%2Fmaster%2Fcsse_covid_19_data%2Fcsse_covid_19_time_series%2Ftime_series_covid19_recovered_global.csv&filename=time_series_covid19_recovered_global.csv'"
   ]
  },
  {
   "cell_type": "markdown",
   "metadata": {},
   "source": [
    "Felesleges oszlopok eltávolítása."
   ]
  },
  {
   "cell_type": "code",
   "execution_count": 4,
   "metadata": {},
   "outputs": [
    {
     "name": "stdout",
     "output_type": "stream",
     "text": [
      "                1/22/20  1/23/20  1/24/20  1/25/20  1/26/20  1/27/20  1/28/20  \\\n",
      "Country/Region                                                                  \n",
      "Afghanistan           0        0        0        0        0        0        0   \n",
      "Albania               0        0        0        0        0        0        0   \n",
      "Algeria               0        0        0        0        0        0        0   \n",
      "Andorra               0        0        0        0        0        0        0   \n",
      "Angola                0        0        0        0        0        0        0   \n",
      "\n",
      "                1/29/20  1/30/20  1/31/20  ...  9/17/20  9/18/20  9/19/20  \\\n",
      "Country/Region                             ...                              \n",
      "Afghanistan           0        0        0  ...    38872    38883    38919   \n",
      "Albania               0        0        0  ...    11948    12073    12226   \n",
      "Algeria               0        0        0  ...    49194    49413    49623   \n",
      "Andorra               0        0        0  ...     1483     1564     1564   \n",
      "Angola                0        0        0  ...     3789     3848     3901   \n",
      "\n",
      "                9/20/20  9/21/20  9/22/20  9/23/20  9/24/20  9/25/20  9/26/20  \n",
      "Country/Region                                                                 \n",
      "Afghanistan       39044    39074    39096    39145    39170    39186    39192  \n",
      "Albania           12385    12535    12666    12787    12921    13045    13153  \n",
      "Algeria           49826    50023    50214    50400    50579    50754    50914  \n",
      "Andorra            1564     1681     1681     1753     1753     1836     1836  \n",
      "Angola             3991     4117     4236     4363     4475     4590     4672  \n",
      "\n",
      "[5 rows x 249 columns]\n",
      "                1/22/20  1/23/20  1/24/20  1/25/20  1/26/20  1/27/20  1/28/20  \\\n",
      "Country/Region                                                                  \n",
      "Afghanistan           0        0        0        0        0        0        0   \n",
      "Albania               0        0        0        0        0        0        0   \n",
      "Algeria               0        0        0        0        0        0        0   \n",
      "Andorra               0        0        0        0        0        0        0   \n",
      "Angola                0        0        0        0        0        0        0   \n",
      "\n",
      "                1/29/20  1/30/20  1/31/20  ...  9/17/20  9/18/20  9/19/20  \\\n",
      "Country/Region                             ...                              \n",
      "Afghanistan           0        0        0  ...     1436     1437     1437   \n",
      "Albania               0        0        0  ...      347      353      358   \n",
      "Algeria               0        0        0  ...     1654     1659     1665   \n",
      "Andorra               0        0        0  ...       53       53       53   \n",
      "Angola                0        0        0  ...      144      147      147   \n",
      "\n",
      "                9/20/20  9/21/20  9/22/20  9/23/20  9/24/20  9/25/20  9/26/20  \n",
      "Country/Region                                                                 \n",
      "Afghanistan        1441     1444     1445     1446     1451     1451     1453  \n",
      "Albania             362      364      367      370      370      373      375  \n",
      "Algeria            1672     1679     1689     1698     1703     1707     1711  \n",
      "Andorra              53       53       53       53       53       53       53  \n",
      "Angola              152      154      155      159      162      167      171  \n",
      "\n",
      "[5 rows x 249 columns]\n",
      "                1/22/20  1/23/20  1/24/20  1/25/20  1/26/20  1/27/20  1/28/20  \\\n",
      "Country/Region                                                                  \n",
      "Afghanistan           0        0        0        0        0        0        0   \n",
      "Albania               0        0        0        0        0        0        0   \n",
      "Algeria               0        0        0        0        0        0        0   \n",
      "Andorra               0        0        0        0        0        0        0   \n",
      "Angola                0        0        0        0        0        0        0   \n",
      "\n",
      "                1/29/20  1/30/20  1/31/20  ...  9/17/20  9/18/20  9/19/20  \\\n",
      "Country/Region                             ...                              \n",
      "Afghanistan           0        0        0  ...    32505    32576    32576   \n",
      "Albania               0        0        0  ...     6788     6831     6888   \n",
      "Algeria               0        0        0  ...    34675    34818    34923   \n",
      "Andorra               0        0        0  ...     1054     1164     1164   \n",
      "Angola                0        0        0  ...     1405     1443     1445   \n",
      "\n",
      "                9/20/20  9/21/20  9/22/20  9/23/20  9/24/20  9/25/20  9/26/20  \n",
      "Country/Region                                                                 \n",
      "Afghanistan       32576    32576    32576    32610    32619    32619    32635  \n",
      "Albania            6940     6995     7042     7139     7239     7309     7397  \n",
      "Algeria           35047    35180    35307    35428    35544    35654    35756  \n",
      "Andorra            1164     1199     1199     1203     1203     1263     1263  \n",
      "Angola             1445     1449     1462     1473     1503     1554     1639  \n",
      "\n",
      "[5 rows x 249 columns]\n"
     ]
    }
   ],
   "source": [
    "def prep(url):\n",
    "    # Index=Countries, Columns=Datum, Values=Values\n",
    "    df = pd.read_csv(url)\n",
    "    df.set_index('Country/Region', inplace=True)\n",
    "    df.drop(columns=['Province/State', 'Lat', 'Long'], inplace=True)\n",
    "    return df\n",
    "\n",
    "\n",
    "conf = prep(url_c)\n",
    "death = prep(url_d)\n",
    "rec = prep(url_r)\n",
    "\n",
    "print(conf.head())\n",
    "print(death.head())\n",
    "print(rec.head())"
   ]
  },
  {
   "cell_type": "markdown",
   "metadata": {},
   "source": [
    "Kiválogatjuk az országokra vonatkozó sorokat.\n",
    "Itt most Magyarország és Németország adatait gyüjtögetem ki."
   ]
  },
  {
   "cell_type": "code",
   "execution_count": 5,
   "metadata": {},
   "outputs": [
    {
     "name": "stdout",
     "output_type": "stream",
     "text": [
      "1/22/20        0\n",
      "1/23/20        0\n",
      "1/24/20        0\n",
      "1/25/20        0\n",
      "1/26/20        0\n",
      "           ...  \n",
      "9/22/20    19499\n",
      "9/23/20    20450\n",
      "9/24/20    21200\n",
      "9/25/20    22127\n",
      "9/26/20    23077\n",
      "Name: Hungary, Length: 249, dtype: int64\n",
      "1/22/20      0\n",
      "1/23/20      0\n",
      "1/24/20      0\n",
      "1/25/20      0\n",
      "1/26/20      0\n",
      "          ... \n",
      "9/22/20    694\n",
      "9/23/20    702\n",
      "9/24/20    709\n",
      "9/25/20    718\n",
      "9/26/20    730\n",
      "Name: Hungary, Length: 249, dtype: int64\n",
      "1/22/20       0\n",
      "1/23/20       0\n",
      "1/24/20       0\n",
      "1/25/20       0\n",
      "1/26/20       0\n",
      "           ... \n",
      "9/22/20    4559\n",
      "9/23/20    4644\n",
      "9/24/20    4818\n",
      "9/25/20    4945\n",
      "9/26/20    5099\n",
      "Name: Hungary, Length: 249, dtype: int64\n",
      "1/22/20         0\n",
      "1/23/20         0\n",
      "1/24/20         0\n",
      "1/25/20         0\n",
      "1/26/20         0\n",
      "            ...  \n",
      "9/22/20    277412\n",
      "9/23/20    279025\n",
      "9/24/20    281346\n",
      "9/25/20    283712\n",
      "9/26/20    285026\n",
      "Name: Germany, Length: 249, dtype: int64\n",
      "1/22/20       0\n",
      "1/23/20       0\n",
      "1/24/20       0\n",
      "1/25/20       0\n",
      "1/26/20       0\n",
      "           ... \n",
      "9/22/20    9405\n",
      "9/23/20    9423\n",
      "9/24/20    9436\n",
      "9/25/20    9451\n",
      "9/26/20    9459\n",
      "Name: Germany, Length: 249, dtype: int64\n",
      "1/22/20         0\n",
      "1/23/20         0\n",
      "1/24/20         0\n",
      "1/25/20         0\n",
      "1/26/20         0\n",
      "            ...  \n",
      "9/22/20    244693\n",
      "9/23/20    245706\n",
      "9/24/20    247766\n",
      "9/25/20    249164\n",
      "9/26/20    250104\n",
      "Name: Germany, Length: 249, dtype: int64\n"
     ]
    }
   ],
   "source": [
    "hu_c = conf.loc[countryes[0]]\n",
    "hu_d = death.loc[countryes[0]]\n",
    "hu_r = rec.loc[countryes[0]]\n",
    "\n",
    "de_c = conf.loc[countryes[1]]\n",
    "de_d = death.loc[countryes[1]]\n",
    "de_r = rec.loc[countryes[1]]\n",
    "\n",
    "print(hu_c)\n",
    "print(hu_d)\n",
    "print(hu_r)\n",
    "print(de_c)\n",
    "print(de_d)\n",
    "print(de_r)"
   ]
  },
  {
   "cell_type": "markdown",
   "metadata": {},
   "source": [
    "Időskálát is készítünk.\n",
    "Itt ez úgytörténik, hogy az egyik DataFrame dátum fejlécét dátumokká alakítom."
   ]
  },
  {
   "cell_type": "code",
   "execution_count": 6,
   "metadata": {},
   "outputs": [
    {
     "name": "stdout",
     "output_type": "stream",
     "text": [
      "DatetimeIndex(['2020-01-22', '2020-01-23', '2020-01-24', '2020-01-25',\n",
      "               '2020-01-26', '2020-01-27', '2020-01-28', '2020-01-29',\n",
      "               '2020-01-30', '2020-01-31',\n",
      "               ...\n",
      "               '2020-09-17', '2020-09-18', '2020-09-19', '2020-09-20',\n",
      "               '2020-09-21', '2020-09-22', '2020-09-23', '2020-09-24',\n",
      "               '2020-09-25', '2020-09-26'],\n",
      "              dtype='datetime64[ns]', length=249, freq=None)\n"
     ]
    }
   ],
   "source": [
    "t = pd.to_datetime(hu_c.index)\n",
    "\n",
    "print(t)"
   ]
  },
  {
   "cell_type": "markdown",
   "metadata": {},
   "source": [
    "Kiszedem az értékeket teljes lakosságra és 10000 főre vetítve is."
   ]
  },
  {
   "cell_type": "code",
   "execution_count": 7,
   "metadata": {},
   "outputs": [
    {
     "name": "stdout",
     "output_type": "stream",
     "text": [
      "[    0     0     0     0     0     0     0     0     0     0     0     0\n",
      "     0     0     0     0     0     0     0     0     0     0     0     0\n",
      "     0     0     0     0     0     0     0     0     0     0     0     0\n",
      "     0     0     0     0     0     0     2     2     2     4     7     9\n",
      "     9    13    13    19    30    32    39    50    58    73    85   103\n",
      "   131   167   187   226   261   300   343   408   447   492   525   585\n",
      "   623   678   733   744   817   895   980  1190  1310  1410  1458  1512\n",
      "  1579  1652  1763  1834  1916  1984  2098  2168  2284  2443  2443  2500\n",
      "  2583  2649  2727  2775  2863  2942  2998  3035  3065  3111  3150  3178\n",
      "  3213  3263  3284  3313  3341  3380  3417  3473  3509  3535  3556  3598\n",
      "  3641  3678  3713  3741  3756  3771  3793  3816  3841  3867  3876  3892\n",
      "  3921  3931  3954  3970  3990  4008  4014  4017  4027  4039  4053  4064\n",
      "  4069  4076  4077  4078  4079  4081  4086  4094  4102  4107  4114  4123\n",
      "  4127  4138  4142  4145  4155  4157  4166  4172  4174  4183  4189  4205\n",
      "  4210  4220  4223  4229  4234  4247  4258  4263  4279  4293  4315  4333\n",
      "  4339  4347  4366  4380  4398  4424  4435  4448  4456  4465  4484  4505\n",
      "  4526  4535  4544  4553  4564  4597  4621  4653  4696  4731  4746  4768\n",
      "  4813  4853  4877  4916  4946  4970  5002  5046  5098  5133  5155  5191\n",
      "  5215  5288  5379  5511  5669  5961  6139  6257  6622  6923  7382  7892\n",
      "  8387  8963  9304  9715 10191 10909 11825 12309 13153 13879 14460 15170\n",
      " 16111 16920 17990 18866 19499 20450 21200 22127 23077]\n",
      "[  0   0   0   0   0   0   0   0   0   0   0   0   0   0   0   0   0   0\n",
      "   0   0   0   0   0   0   0   0   0   0   0   0   0   0   0   0   0   0\n",
      "   0   0   0   0   0   0   0   0   0   0   0   0   0   0   0   0   0   1\n",
      "   1   1   1   1   3   4   6   7   9  10  10  10  11  13  15  16  20  21\n",
      "  26  32  34  38  47  58  66  77  85  99 109 122 134 142 156 172 189 199\n",
      " 213 225 239 262 262 272 280 291 300 312 323 335 340 351 363 373 383 392\n",
      " 405 413 421 425 430 436 442 448 451 462 467 470 473 476 482 486 491 499\n",
      " 505 509 517 524 526 527 532 534 539 542 545 546 548 550 551 553 555 559\n",
      " 562 563 565 567 568 568 570 570 572 573 576 577 578 578 581 585 585 586\n",
      " 587 588 589 589 589 589 589 591 593 595 595 595 595 595 595 595 596 596\n",
      " 596 596 596 596 596 596 596 596 596 596 596 596 597 597 597 598 599 600\n",
      " 602 602 602 605 605 605 607 607 607 608 608 609 609 609 611 611 613 613\n",
      " 614 614 614 614 614 614 615 616 619 620 621 624 624 625 626 628 630 631\n",
      " 633 637 642 646 654 663 669 675 683 686 694 702 709 718 730]\n",
      "[   0    0    0    0    0    0    0    0    0    0    0    0    0    0\n",
      "    0    0    0    0    0    0    0    0    0    0    0    0    0    0\n",
      "    0    0    0    0    0    0    0    0    0    0    0    0    0    0\n",
      "    0    0    0    0    0    0    0    0    0    0    1    1    1    2\n",
      "    2    2    2    7   16   16   21   21   28   34   34   34   34   37\n",
      "   40   42   43   58   66   67   71   94   96  112  115  118  120  122\n",
      "  192  199  207  231  250  267  287  295  390  458  458  485  498  516\n",
      "  536  581  609  625  629  630  709  759  801  865  904  933  958 1007\n",
      " 1102 1169 1287 1371 1396 1400 1412 1454 1509 1587 1655 1690 1711 1836\n",
      " 1856 1996 2024 2142 2147 2156 2160 2190 2205 2245 2279 2279 2284 2324\n",
      " 2355 2391 2447 2476 2482 2485 2516 2547 2564 2581 2585 2589 2590 2600\n",
      " 2618 2640 2663 2681 2685 2685 2692 2714 2721 2752 2784 2811 2860 2874\n",
      " 2885 2887 2941 2974 3036 3073 3106 3126 3156 3220 3222 3223 3232 3257\n",
      " 3283 3300 3312 3324 3329 3329 3331 3339 3346 3353 3364 3389 3413 3415\n",
      " 3431 3463 3464 3491 3499 3525 3527 3529 3561 3590 3606 3623 3630 3631\n",
      " 3665 3678 3681 3692 3695 3695 3716 3734 3757 3759 3759 3759 3761 3821\n",
      " 3903 3930 3944 3952 3958 3961 3972 3984 3990 4014 4058 4069 4117 4130\n",
      " 4153 4227 4240 4382 4391 4401 4559 4644 4818 4945 5099]\n",
      "stb...\n",
      "\n",
      "\n"
     ]
    }
   ],
   "source": [
    "v_hu_c = hu_c.values\n",
    "v_hu_d = hu_d.values\n",
    "v_hu_r = hu_r.values\n",
    "\n",
    "v_de_c = de_c.values\n",
    "v_de_d = de_d.values\n",
    "v_de_r = de_r.values\n",
    "\n",
    "v_hu_c_pop = hu_c.values/pop[0]\n",
    "v_hu_d_pop = hu_d.values/pop[0]\n",
    "v_hu_r_pop = hu_r.values/pop[0]\n",
    "\n",
    "v_de_c_pop = de_c.values/pop[1]\n",
    "v_de_d_pop = de_d.values/pop[1]\n",
    "v_de_r_pop = de_r.values/pop[1]\n",
    "\n",
    "print(v_hu_c)\n",
    "print(v_hu_d)\n",
    "print(v_hu_r)\n",
    "print('stb...')\n",
    "print()\n",
    "print()"
   ]
  },
  {
   "cell_type": "markdown",
   "metadata": {},
   "source": [
    "A grafikont itt a notebookban szeretnénk megjeleníteni."
   ]
  },
  {
   "cell_type": "code",
   "execution_count": 8,
   "metadata": {},
   "outputs": [
    {
     "data": {
      "text/html": [
       "\n",
       "    <div class=\"bk-root\">\n",
       "        <a href=\"https://bokeh.org\" target=\"_blank\" class=\"bk-logo bk-logo-small bk-logo-notebook\"></a>\n",
       "        <span id=\"1001\">Loading BokehJS ...</span>\n",
       "    </div>"
      ]
     },
     "metadata": {},
     "output_type": "display_data"
    },
    {
     "data": {
      "application/javascript": [
       "\n",
       "(function(root) {\n",
       "  function now() {\n",
       "    return new Date();\n",
       "  }\n",
       "\n",
       "  var force = true;\n",
       "\n",
       "  if (typeof root._bokeh_onload_callbacks === \"undefined\" || force === true) {\n",
       "    root._bokeh_onload_callbacks = [];\n",
       "    root._bokeh_is_loading = undefined;\n",
       "  }\n",
       "\n",
       "  var JS_MIME_TYPE = 'application/javascript';\n",
       "  var HTML_MIME_TYPE = 'text/html';\n",
       "  var EXEC_MIME_TYPE = 'application/vnd.bokehjs_exec.v0+json';\n",
       "  var CLASS_NAME = 'output_bokeh rendered_html';\n",
       "\n",
       "  /**\n",
       "   * Render data to the DOM node\n",
       "   */\n",
       "  function render(props, node) {\n",
       "    var script = document.createElement(\"script\");\n",
       "    node.appendChild(script);\n",
       "  }\n",
       "\n",
       "  /**\n",
       "   * Handle when an output is cleared or removed\n",
       "   */\n",
       "  function handleClearOutput(event, handle) {\n",
       "    var cell = handle.cell;\n",
       "\n",
       "    var id = cell.output_area._bokeh_element_id;\n",
       "    var server_id = cell.output_area._bokeh_server_id;\n",
       "    // Clean up Bokeh references\n",
       "    if (id != null && id in Bokeh.index) {\n",
       "      Bokeh.index[id].model.document.clear();\n",
       "      delete Bokeh.index[id];\n",
       "    }\n",
       "\n",
       "    if (server_id !== undefined) {\n",
       "      // Clean up Bokeh references\n",
       "      var cmd = \"from bokeh.io.state import curstate; print(curstate().uuid_to_server['\" + server_id + \"'].get_sessions()[0].document.roots[0]._id)\";\n",
       "      cell.notebook.kernel.execute(cmd, {\n",
       "        iopub: {\n",
       "          output: function(msg) {\n",
       "            var id = msg.content.text.trim();\n",
       "            if (id in Bokeh.index) {\n",
       "              Bokeh.index[id].model.document.clear();\n",
       "              delete Bokeh.index[id];\n",
       "            }\n",
       "          }\n",
       "        }\n",
       "      });\n",
       "      // Destroy server and session\n",
       "      var cmd = \"import bokeh.io.notebook as ion; ion.destroy_server('\" + server_id + \"')\";\n",
       "      cell.notebook.kernel.execute(cmd);\n",
       "    }\n",
       "  }\n",
       "\n",
       "  /**\n",
       "   * Handle when a new output is added\n",
       "   */\n",
       "  function handleAddOutput(event, handle) {\n",
       "    var output_area = handle.output_area;\n",
       "    var output = handle.output;\n",
       "\n",
       "    // limit handleAddOutput to display_data with EXEC_MIME_TYPE content only\n",
       "    if ((output.output_type != \"display_data\") || (!output.data.hasOwnProperty(EXEC_MIME_TYPE))) {\n",
       "      return\n",
       "    }\n",
       "\n",
       "    var toinsert = output_area.element.find(\".\" + CLASS_NAME.split(' ')[0]);\n",
       "\n",
       "    if (output.metadata[EXEC_MIME_TYPE][\"id\"] !== undefined) {\n",
       "      toinsert[toinsert.length - 1].firstChild.textContent = output.data[JS_MIME_TYPE];\n",
       "      // store reference to embed id on output_area\n",
       "      output_area._bokeh_element_id = output.metadata[EXEC_MIME_TYPE][\"id\"];\n",
       "    }\n",
       "    if (output.metadata[EXEC_MIME_TYPE][\"server_id\"] !== undefined) {\n",
       "      var bk_div = document.createElement(\"div\");\n",
       "      bk_div.innerHTML = output.data[HTML_MIME_TYPE];\n",
       "      var script_attrs = bk_div.children[0].attributes;\n",
       "      for (var i = 0; i < script_attrs.length; i++) {\n",
       "        toinsert[toinsert.length - 1].firstChild.setAttribute(script_attrs[i].name, script_attrs[i].value);\n",
       "        toinsert[toinsert.length - 1].firstChild.textContent = bk_div.children[0].textContent\n",
       "      }\n",
       "      // store reference to server id on output_area\n",
       "      output_area._bokeh_server_id = output.metadata[EXEC_MIME_TYPE][\"server_id\"];\n",
       "    }\n",
       "  }\n",
       "\n",
       "  function register_renderer(events, OutputArea) {\n",
       "\n",
       "    function append_mime(data, metadata, element) {\n",
       "      // create a DOM node to render to\n",
       "      var toinsert = this.create_output_subarea(\n",
       "        metadata,\n",
       "        CLASS_NAME,\n",
       "        EXEC_MIME_TYPE\n",
       "      );\n",
       "      this.keyboard_manager.register_events(toinsert);\n",
       "      // Render to node\n",
       "      var props = {data: data, metadata: metadata[EXEC_MIME_TYPE]};\n",
       "      render(props, toinsert[toinsert.length - 1]);\n",
       "      element.append(toinsert);\n",
       "      return toinsert\n",
       "    }\n",
       "\n",
       "    /* Handle when an output is cleared or removed */\n",
       "    events.on('clear_output.CodeCell', handleClearOutput);\n",
       "    events.on('delete.Cell', handleClearOutput);\n",
       "\n",
       "    /* Handle when a new output is added */\n",
       "    events.on('output_added.OutputArea', handleAddOutput);\n",
       "\n",
       "    /**\n",
       "     * Register the mime type and append_mime function with output_area\n",
       "     */\n",
       "    OutputArea.prototype.register_mime_type(EXEC_MIME_TYPE, append_mime, {\n",
       "      /* Is output safe? */\n",
       "      safe: true,\n",
       "      /* Index of renderer in `output_area.display_order` */\n",
       "      index: 0\n",
       "    });\n",
       "  }\n",
       "\n",
       "  // register the mime type if in Jupyter Notebook environment and previously unregistered\n",
       "  if (root.Jupyter !== undefined) {\n",
       "    var events = require('base/js/events');\n",
       "    var OutputArea = require('notebook/js/outputarea').OutputArea;\n",
       "\n",
       "    if (OutputArea.prototype.mime_types().indexOf(EXEC_MIME_TYPE) == -1) {\n",
       "      register_renderer(events, OutputArea);\n",
       "    }\n",
       "  }\n",
       "\n",
       "  \n",
       "  if (typeof (root._bokeh_timeout) === \"undefined\" || force === true) {\n",
       "    root._bokeh_timeout = Date.now() + 5000;\n",
       "    root._bokeh_failed_load = false;\n",
       "  }\n",
       "\n",
       "  var NB_LOAD_WARNING = {'data': {'text/html':\n",
       "     \"<div style='background-color: #fdd'>\\n\"+\n",
       "     \"<p>\\n\"+\n",
       "     \"BokehJS does not appear to have successfully loaded. If loading BokehJS from CDN, this \\n\"+\n",
       "     \"may be due to a slow or bad network connection. Possible fixes:\\n\"+\n",
       "     \"</p>\\n\"+\n",
       "     \"<ul>\\n\"+\n",
       "     \"<li>re-rerun `output_notebook()` to attempt to load from CDN again, or</li>\\n\"+\n",
       "     \"<li>use INLINE resources instead, as so:</li>\\n\"+\n",
       "     \"</ul>\\n\"+\n",
       "     \"<code>\\n\"+\n",
       "     \"from bokeh.resources import INLINE\\n\"+\n",
       "     \"output_notebook(resources=INLINE)\\n\"+\n",
       "     \"</code>\\n\"+\n",
       "     \"</div>\"}};\n",
       "\n",
       "  function display_loaded() {\n",
       "    var el = document.getElementById(\"1001\");\n",
       "    if (el != null) {\n",
       "      el.textContent = \"BokehJS is loading...\";\n",
       "    }\n",
       "    if (root.Bokeh !== undefined) {\n",
       "      if (el != null) {\n",
       "        el.textContent = \"BokehJS \" + root.Bokeh.version + \" successfully loaded.\";\n",
       "      }\n",
       "    } else if (Date.now() < root._bokeh_timeout) {\n",
       "      setTimeout(display_loaded, 100)\n",
       "    }\n",
       "  }\n",
       "\n",
       "\n",
       "  function run_callbacks() {\n",
       "    try {\n",
       "      root._bokeh_onload_callbacks.forEach(function(callback) {\n",
       "        if (callback != null)\n",
       "          callback();\n",
       "      });\n",
       "    } finally {\n",
       "      delete root._bokeh_onload_callbacks\n",
       "    }\n",
       "    console.debug(\"Bokeh: all callbacks have finished\");\n",
       "  }\n",
       "\n",
       "  function load_libs(css_urls, js_urls, callback) {\n",
       "    if (css_urls == null) css_urls = [];\n",
       "    if (js_urls == null) js_urls = [];\n",
       "\n",
       "    root._bokeh_onload_callbacks.push(callback);\n",
       "    if (root._bokeh_is_loading > 0) {\n",
       "      console.debug(\"Bokeh: BokehJS is being loaded, scheduling callback at\", now());\n",
       "      return null;\n",
       "    }\n",
       "    if (js_urls == null || js_urls.length === 0) {\n",
       "      run_callbacks();\n",
       "      return null;\n",
       "    }\n",
       "    console.debug(\"Bokeh: BokehJS not loaded, scheduling load and callback at\", now());\n",
       "    root._bokeh_is_loading = css_urls.length + js_urls.length;\n",
       "\n",
       "    function on_load() {\n",
       "      root._bokeh_is_loading--;\n",
       "      if (root._bokeh_is_loading === 0) {\n",
       "        console.debug(\"Bokeh: all BokehJS libraries/stylesheets loaded\");\n",
       "        run_callbacks()\n",
       "      }\n",
       "    }\n",
       "\n",
       "    function on_error() {\n",
       "      console.error(\"failed to load \" + url);\n",
       "    }\n",
       "\n",
       "    for (var i = 0; i < css_urls.length; i++) {\n",
       "      var url = css_urls[i];\n",
       "      const element = document.createElement(\"link\");\n",
       "      element.onload = on_load;\n",
       "      element.onerror = on_error;\n",
       "      element.rel = \"stylesheet\";\n",
       "      element.type = \"text/css\";\n",
       "      element.href = url;\n",
       "      console.debug(\"Bokeh: injecting link tag for BokehJS stylesheet: \", url);\n",
       "      document.body.appendChild(element);\n",
       "    }\n",
       "\n",
       "    const hashes = {\"https://cdn.bokeh.org/bokeh/release/bokeh-2.2.1.min.js\": \"qkRvDQVAIfzsJo40iRBbxt6sttt0hv4lh74DG7OK4MCHv4C5oohXYoHUM5W11uqS\", \"https://cdn.bokeh.org/bokeh/release/bokeh-widgets-2.2.1.min.js\": \"Sb7Mr06a9TNlet/GEBeKaf5xH3eb6AlCzwjtU82wNPyDrnfoiVl26qnvlKjmcAd+\", \"https://cdn.bokeh.org/bokeh/release/bokeh-tables-2.2.1.min.js\": \"HaJ15vgfmcfRtB4c4YBOI4f1MUujukqInOWVqZJZZGK7Q+ivud0OKGSTn/Vm2iso\"};\n",
       "\n",
       "    for (var i = 0; i < js_urls.length; i++) {\n",
       "      var url = js_urls[i];\n",
       "      var element = document.createElement('script');\n",
       "      element.onload = on_load;\n",
       "      element.onerror = on_error;\n",
       "      element.async = false;\n",
       "      element.src = url;\n",
       "      if (url in hashes) {\n",
       "        element.crossOrigin = \"anonymous\";\n",
       "        element.integrity = \"sha384-\" + hashes[url];\n",
       "      }\n",
       "      console.debug(\"Bokeh: injecting script tag for BokehJS library: \", url);\n",
       "      document.head.appendChild(element);\n",
       "    }\n",
       "  };\n",
       "\n",
       "  function inject_raw_css(css) {\n",
       "    const element = document.createElement(\"style\");\n",
       "    element.appendChild(document.createTextNode(css));\n",
       "    document.body.appendChild(element);\n",
       "  }\n",
       "\n",
       "  \n",
       "  var js_urls = [\"https://cdn.bokeh.org/bokeh/release/bokeh-2.2.1.min.js\", \"https://cdn.bokeh.org/bokeh/release/bokeh-widgets-2.2.1.min.js\", \"https://cdn.bokeh.org/bokeh/release/bokeh-tables-2.2.1.min.js\"];\n",
       "  var css_urls = [];\n",
       "  \n",
       "\n",
       "  var inline_js = [\n",
       "    function(Bokeh) {\n",
       "      Bokeh.set_log_level(\"info\");\n",
       "    },\n",
       "    function(Bokeh) {\n",
       "    \n",
       "    \n",
       "    }\n",
       "  ];\n",
       "\n",
       "  function run_inline_js() {\n",
       "    \n",
       "    if (root.Bokeh !== undefined || force === true) {\n",
       "      \n",
       "    for (var i = 0; i < inline_js.length; i++) {\n",
       "      inline_js[i].call(root, root.Bokeh);\n",
       "    }\n",
       "    if (force === true) {\n",
       "        display_loaded();\n",
       "      }} else if (Date.now() < root._bokeh_timeout) {\n",
       "      setTimeout(run_inline_js, 100);\n",
       "    } else if (!root._bokeh_failed_load) {\n",
       "      console.log(\"Bokeh: BokehJS failed to load within specified timeout.\");\n",
       "      root._bokeh_failed_load = true;\n",
       "    } else if (force !== true) {\n",
       "      var cell = $(document.getElementById(\"1001\")).parents('.cell').data().cell;\n",
       "      cell.output_area.append_execute_result(NB_LOAD_WARNING)\n",
       "    }\n",
       "\n",
       "  }\n",
       "\n",
       "  if (root._bokeh_is_loading === 0) {\n",
       "    console.debug(\"Bokeh: BokehJS loaded, going straight to plotting\");\n",
       "    run_inline_js();\n",
       "  } else {\n",
       "    load_libs(css_urls, js_urls, function() {\n",
       "      console.debug(\"Bokeh: BokehJS plotting callback run at\", now());\n",
       "      run_inline_js();\n",
       "    });\n",
       "  }\n",
       "}(window));"
      ],
      "application/vnd.bokehjs_load.v0+json": "\n(function(root) {\n  function now() {\n    return new Date();\n  }\n\n  var force = true;\n\n  if (typeof root._bokeh_onload_callbacks === \"undefined\" || force === true) {\n    root._bokeh_onload_callbacks = [];\n    root._bokeh_is_loading = undefined;\n  }\n\n  \n\n  \n  if (typeof (root._bokeh_timeout) === \"undefined\" || force === true) {\n    root._bokeh_timeout = Date.now() + 5000;\n    root._bokeh_failed_load = false;\n  }\n\n  var NB_LOAD_WARNING = {'data': {'text/html':\n     \"<div style='background-color: #fdd'>\\n\"+\n     \"<p>\\n\"+\n     \"BokehJS does not appear to have successfully loaded. If loading BokehJS from CDN, this \\n\"+\n     \"may be due to a slow or bad network connection. Possible fixes:\\n\"+\n     \"</p>\\n\"+\n     \"<ul>\\n\"+\n     \"<li>re-rerun `output_notebook()` to attempt to load from CDN again, or</li>\\n\"+\n     \"<li>use INLINE resources instead, as so:</li>\\n\"+\n     \"</ul>\\n\"+\n     \"<code>\\n\"+\n     \"from bokeh.resources import INLINE\\n\"+\n     \"output_notebook(resources=INLINE)\\n\"+\n     \"</code>\\n\"+\n     \"</div>\"}};\n\n  function display_loaded() {\n    var el = document.getElementById(\"1001\");\n    if (el != null) {\n      el.textContent = \"BokehJS is loading...\";\n    }\n    if (root.Bokeh !== undefined) {\n      if (el != null) {\n        el.textContent = \"BokehJS \" + root.Bokeh.version + \" successfully loaded.\";\n      }\n    } else if (Date.now() < root._bokeh_timeout) {\n      setTimeout(display_loaded, 100)\n    }\n  }\n\n\n  function run_callbacks() {\n    try {\n      root._bokeh_onload_callbacks.forEach(function(callback) {\n        if (callback != null)\n          callback();\n      });\n    } finally {\n      delete root._bokeh_onload_callbacks\n    }\n    console.debug(\"Bokeh: all callbacks have finished\");\n  }\n\n  function load_libs(css_urls, js_urls, callback) {\n    if (css_urls == null) css_urls = [];\n    if (js_urls == null) js_urls = [];\n\n    root._bokeh_onload_callbacks.push(callback);\n    if (root._bokeh_is_loading > 0) {\n      console.debug(\"Bokeh: BokehJS is being loaded, scheduling callback at\", now());\n      return null;\n    }\n    if (js_urls == null || js_urls.length === 0) {\n      run_callbacks();\n      return null;\n    }\n    console.debug(\"Bokeh: BokehJS not loaded, scheduling load and callback at\", now());\n    root._bokeh_is_loading = css_urls.length + js_urls.length;\n\n    function on_load() {\n      root._bokeh_is_loading--;\n      if (root._bokeh_is_loading === 0) {\n        console.debug(\"Bokeh: all BokehJS libraries/stylesheets loaded\");\n        run_callbacks()\n      }\n    }\n\n    function on_error() {\n      console.error(\"failed to load \" + url);\n    }\n\n    for (var i = 0; i < css_urls.length; i++) {\n      var url = css_urls[i];\n      const element = document.createElement(\"link\");\n      element.onload = on_load;\n      element.onerror = on_error;\n      element.rel = \"stylesheet\";\n      element.type = \"text/css\";\n      element.href = url;\n      console.debug(\"Bokeh: injecting link tag for BokehJS stylesheet: \", url);\n      document.body.appendChild(element);\n    }\n\n    const hashes = {\"https://cdn.bokeh.org/bokeh/release/bokeh-2.2.1.min.js\": \"qkRvDQVAIfzsJo40iRBbxt6sttt0hv4lh74DG7OK4MCHv4C5oohXYoHUM5W11uqS\", \"https://cdn.bokeh.org/bokeh/release/bokeh-widgets-2.2.1.min.js\": \"Sb7Mr06a9TNlet/GEBeKaf5xH3eb6AlCzwjtU82wNPyDrnfoiVl26qnvlKjmcAd+\", \"https://cdn.bokeh.org/bokeh/release/bokeh-tables-2.2.1.min.js\": \"HaJ15vgfmcfRtB4c4YBOI4f1MUujukqInOWVqZJZZGK7Q+ivud0OKGSTn/Vm2iso\"};\n\n    for (var i = 0; i < js_urls.length; i++) {\n      var url = js_urls[i];\n      var element = document.createElement('script');\n      element.onload = on_load;\n      element.onerror = on_error;\n      element.async = false;\n      element.src = url;\n      if (url in hashes) {\n        element.crossOrigin = \"anonymous\";\n        element.integrity = \"sha384-\" + hashes[url];\n      }\n      console.debug(\"Bokeh: injecting script tag for BokehJS library: \", url);\n      document.head.appendChild(element);\n    }\n  };\n\n  function inject_raw_css(css) {\n    const element = document.createElement(\"style\");\n    element.appendChild(document.createTextNode(css));\n    document.body.appendChild(element);\n  }\n\n  \n  var js_urls = [\"https://cdn.bokeh.org/bokeh/release/bokeh-2.2.1.min.js\", \"https://cdn.bokeh.org/bokeh/release/bokeh-widgets-2.2.1.min.js\", \"https://cdn.bokeh.org/bokeh/release/bokeh-tables-2.2.1.min.js\"];\n  var css_urls = [];\n  \n\n  var inline_js = [\n    function(Bokeh) {\n      Bokeh.set_log_level(\"info\");\n    },\n    function(Bokeh) {\n    \n    \n    }\n  ];\n\n  function run_inline_js() {\n    \n    if (root.Bokeh !== undefined || force === true) {\n      \n    for (var i = 0; i < inline_js.length; i++) {\n      inline_js[i].call(root, root.Bokeh);\n    }\n    if (force === true) {\n        display_loaded();\n      }} else if (Date.now() < root._bokeh_timeout) {\n      setTimeout(run_inline_js, 100);\n    } else if (!root._bokeh_failed_load) {\n      console.log(\"Bokeh: BokehJS failed to load within specified timeout.\");\n      root._bokeh_failed_load = true;\n    } else if (force !== true) {\n      var cell = $(document.getElementById(\"1001\")).parents('.cell').data().cell;\n      cell.output_area.append_execute_result(NB_LOAD_WARNING)\n    }\n\n  }\n\n  if (root._bokeh_is_loading === 0) {\n    console.debug(\"Bokeh: BokehJS loaded, going straight to plotting\");\n    run_inline_js();\n  } else {\n    load_libs(css_urls, js_urls, function() {\n      console.debug(\"Bokeh: BokehJS plotting callback run at\", now());\n      run_inline_js();\n    });\n  }\n}(window));"
     },
     "metadata": {},
     "output_type": "display_data"
    }
   ],
   "source": [
    "output_notebook()"
   ]
  },
  {
   "cell_type": "markdown",
   "metadata": {},
   "source": [
    "Meghatározom, hogy az értékeket is mutassa a grafikonon."
   ]
  },
  {
   "cell_type": "code",
   "execution_count": 9,
   "metadata": {},
   "outputs": [],
   "source": [
    "hover = HoverTool(tooltips='@y', mode='vline')"
   ]
  },
  {
   "cell_type": "markdown",
   "metadata": {},
   "source": [
    "Meghatározom a megjelenítendő koordinátarendszert."
   ]
  },
  {
   "cell_type": "code",
   "execution_count": 10,
   "metadata": {},
   "outputs": [],
   "source": [
    "p = figure(title='COVID 19', x_axis_label='Dátum', x_axis_type='datetime', y_axis_label='Esetek száma / 10 000 Fő', tools=[hover, 'crosshair'])"
   ]
  },
  {
   "cell_type": "markdown",
   "metadata": {},
   "source": [
    "Meghatározom a grafikonokat."
   ]
  },
  {
   "cell_type": "code",
   "execution_count": 11,
   "metadata": {},
   "outputs": [
    {
     "data": {
      "text/html": [
       "<div style=\"display: table;\"><div style=\"display: table-row;\"><div style=\"display: table-cell;\"><b title=\"bokeh.models.renderers.GlyphRenderer\">GlyphRenderer</b>(</div><div style=\"display: table-cell;\">id&nbsp;=&nbsp;'1175', <span id=\"1208\" style=\"cursor: pointer;\">&hellip;)</span></div></div><div class=\"1207\" style=\"display: none;\"><div style=\"display: table-cell;\"></div><div style=\"display: table-cell;\">data_source&nbsp;=&nbsp;ColumnDataSource(id='1172', ...),</div></div><div class=\"1207\" style=\"display: none;\"><div style=\"display: table-cell;\"></div><div style=\"display: table-cell;\">glyph&nbsp;=&nbsp;Line(id='1173', ...),</div></div><div class=\"1207\" style=\"display: none;\"><div style=\"display: table-cell;\"></div><div style=\"display: table-cell;\">hover_glyph&nbsp;=&nbsp;None,</div></div><div class=\"1207\" style=\"display: none;\"><div style=\"display: table-cell;\"></div><div style=\"display: table-cell;\">js_event_callbacks&nbsp;=&nbsp;{},</div></div><div class=\"1207\" style=\"display: none;\"><div style=\"display: table-cell;\"></div><div style=\"display: table-cell;\">js_property_callbacks&nbsp;=&nbsp;{},</div></div><div class=\"1207\" style=\"display: none;\"><div style=\"display: table-cell;\"></div><div style=\"display: table-cell;\">level&nbsp;=&nbsp;'glyph',</div></div><div class=\"1207\" style=\"display: none;\"><div style=\"display: table-cell;\"></div><div style=\"display: table-cell;\">muted&nbsp;=&nbsp;False,</div></div><div class=\"1207\" style=\"display: none;\"><div style=\"display: table-cell;\"></div><div style=\"display: table-cell;\">muted_glyph&nbsp;=&nbsp;None,</div></div><div class=\"1207\" style=\"display: none;\"><div style=\"display: table-cell;\"></div><div style=\"display: table-cell;\">name&nbsp;=&nbsp;None,</div></div><div class=\"1207\" style=\"display: none;\"><div style=\"display: table-cell;\"></div><div style=\"display: table-cell;\">nonselection_glyph&nbsp;=&nbsp;Line(id='1174', ...),</div></div><div class=\"1207\" style=\"display: none;\"><div style=\"display: table-cell;\"></div><div style=\"display: table-cell;\">selection_glyph&nbsp;=&nbsp;None,</div></div><div class=\"1207\" style=\"display: none;\"><div style=\"display: table-cell;\"></div><div style=\"display: table-cell;\">subscribed_events&nbsp;=&nbsp;[],</div></div><div class=\"1207\" style=\"display: none;\"><div style=\"display: table-cell;\"></div><div style=\"display: table-cell;\">tags&nbsp;=&nbsp;[],</div></div><div class=\"1207\" style=\"display: none;\"><div style=\"display: table-cell;\"></div><div style=\"display: table-cell;\">view&nbsp;=&nbsp;CDSView(id='1176', ...),</div></div><div class=\"1207\" style=\"display: none;\"><div style=\"display: table-cell;\"></div><div style=\"display: table-cell;\">visible&nbsp;=&nbsp;True,</div></div><div class=\"1207\" style=\"display: none;\"><div style=\"display: table-cell;\"></div><div style=\"display: table-cell;\">x_range_name&nbsp;=&nbsp;'default',</div></div><div class=\"1207\" style=\"display: none;\"><div style=\"display: table-cell;\"></div><div style=\"display: table-cell;\">y_range_name&nbsp;=&nbsp;'default')</div></div></div>\n",
       "<script>\n",
       "(function() {\n",
       "  var expanded = false;\n",
       "  var ellipsis = document.getElementById(\"1208\");\n",
       "  ellipsis.addEventListener(\"click\", function() {\n",
       "    var rows = document.getElementsByClassName(\"1207\");\n",
       "    for (var i = 0; i < rows.length; i++) {\n",
       "      var el = rows[i];\n",
       "      el.style.display = expanded ? \"none\" : \"table-row\";\n",
       "    }\n",
       "    ellipsis.innerHTML = expanded ? \"&hellip;)\" : \"&lsaquo;&lsaquo;&lsaquo;\";\n",
       "    expanded = !expanded;\n",
       "  });\n",
       "})();\n",
       "</script>\n"
      ],
      "text/plain": [
       "GlyphRenderer(id='1175', ...)"
      ]
     },
     "execution_count": 11,
     "metadata": {},
     "output_type": "execute_result"
    }
   ],
   "source": [
    "p.line(t, v_hu_c_pop, legend_label='Magyar betegek', color='red')\n",
    "p.line(t, v_hu_r_pop, legend_label='Magyar gyógyultak', line_dash='dashed', color='blue')\n",
    "p.line(t, v_hu_d_pop, legend_label='Magyar halottak', line_dash='dotted', color='black')\n",
    "\n",
    "p.line(t, v_de_c_pop, legend_label='Német betegek', color='purple')\n",
    "p.line(t, v_de_r_pop, legend_label='Német gyógyultak', line_dash='dashed', color='green')\n",
    "p.line(t, v_de_d_pop, legend_label='Német halottak', line_dash='dotted', color='orangered')\n"
   ]
  },
  {
   "cell_type": "markdown",
   "metadata": {},
   "source": [
    "A magyarázat fent lesz balra."
   ]
  },
  {
   "cell_type": "code",
   "execution_count": 12,
   "metadata": {},
   "outputs": [],
   "source": [
    "p.legend.location='top_left'"
   ]
  },
  {
   "cell_type": "markdown",
   "metadata": {},
   "source": [
    "Ha lementenénk, akkor így tennénk."
   ]
  },
  {
   "cell_type": "code",
   "execution_count": 13,
   "metadata": {},
   "outputs": [],
   "source": [
    "#output_file('./COVID_19/templates/COVID_19.html')"
   ]
  },
  {
   "cell_type": "markdown",
   "metadata": {},
   "source": [
    "És a grafikon..."
   ]
  },
  {
   "cell_type": "code",
   "execution_count": 14,
   "metadata": {},
   "outputs": [
    {
     "data": {
      "text/html": [
       "\n",
       "\n",
       "\n",
       "\n",
       "\n",
       "\n",
       "  <div class=\"bk-root\" id=\"da7bf788-75ce-4575-a681-8c7b67f15a0f\" data-root-id=\"1003\"></div>\n"
      ]
     },
     "metadata": {},
     "output_type": "display_data"
    },
    {
     "data": {
      "application/javascript": [
       "(function(root) {\n",
       "  function embed_document(root) {\n",
       "    \n",
       "  var docs_json = {\"eecb82f9-156e-4904-a902-9934d559b5fd\":{\"roots\":{\"references\":[{\"attributes\":{\"below\":[{\"id\":\"1014\"}],\"center\":[{\"id\":\"1017\"},{\"id\":\"1021\"},{\"id\":\"1050\"}],\"left\":[{\"id\":\"1018\"}],\"renderers\":[{\"id\":\"1029\"},{\"id\":\"1055\"},{\"id\":\"1082\"},{\"id\":\"1111\"},{\"id\":\"1142\"},{\"id\":\"1175\"}],\"title\":{\"id\":\"1004\"},\"toolbar\":{\"id\":\"1023\"},\"x_range\":{\"id\":\"1006\"},\"x_scale\":{\"id\":\"1010\"},\"y_range\":{\"id\":\"1008\"},\"y_scale\":{\"id\":\"1012\"}},\"id\":\"1003\",\"subtype\":\"Figure\",\"type\":\"Plot\"},{\"attributes\":{},\"id\":\"1077\",\"type\":\"Selection\"},{\"attributes\":{\"line_alpha\":0.1,\"line_color\":\"orangered\",\"line_dash\":[2,4],\"x\":{\"field\":\"x\"},\"y\":{\"field\":\"y\"}},\"id\":\"1174\",\"type\":\"Line\"},{\"attributes\":{\"line_color\":\"orangered\",\"line_dash\":[2,4],\"x\":{\"field\":\"x\"},\"y\":{\"field\":\"y\"}},\"id\":\"1173\",\"type\":\"Line\"},{\"attributes\":{\"label\":{\"value\":\"Magyar halottak\"},\"renderers\":[{\"id\":\"1082\"}]},\"id\":\"1107\",\"type\":\"LegendItem\"},{\"attributes\":{\"line_alpha\":0.1,\"line_dash\":[2,4],\"x\":{\"field\":\"x\"},\"y\":{\"field\":\"y\"}},\"id\":\"1081\",\"type\":\"Line\"},{\"attributes\":{\"source\":{\"id\":\"1172\"}},\"id\":\"1176\",\"type\":\"CDSView\"},{\"attributes\":{\"label\":{\"value\":\"N\\u00e9met halottak\"},\"renderers\":[{\"id\":\"1175\"}]},\"id\":\"1206\",\"type\":\"LegendItem\"},{\"attributes\":{\"line_dash\":[2,4],\"x\":{\"field\":\"x\"},\"y\":{\"field\":\"y\"}},\"id\":\"1080\",\"type\":\"Line\"},{\"attributes\":{\"callback\":null,\"mode\":\"vline\",\"tooltips\":\"@y\"},\"id\":\"1002\",\"type\":\"HoverTool\"},{\"attributes\":{\"data_source\":{\"id\":\"1108\"},\"glyph\":{\"id\":\"1109\"},\"hover_glyph\":null,\"muted_glyph\":null,\"nonselection_glyph\":{\"id\":\"1110\"},\"selection_glyph\":null,\"view\":{\"id\":\"1112\"}},\"id\":\"1111\",\"type\":\"GlyphRenderer\"},{\"attributes\":{\"source\":{\"id\":\"1079\"}},\"id\":\"1083\",\"type\":\"CDSView\"},{\"attributes\":{\"data_source\":{\"id\":\"1139\"},\"glyph\":{\"id\":\"1140\"},\"hover_glyph\":null,\"muted_glyph\":null,\"nonselection_glyph\":{\"id\":\"1141\"},\"selection_glyph\":null,\"view\":{\"id\":\"1143\"}},\"id\":\"1142\",\"type\":\"GlyphRenderer\"},{\"attributes\":{\"source\":{\"id\":\"1108\"}},\"id\":\"1112\",\"type\":\"CDSView\"},{\"attributes\":{},\"id\":\"1204\",\"type\":\"UnionRenderers\"},{\"attributes\":{},\"id\":\"1010\",\"type\":\"LinearScale\"},{\"attributes\":{},\"id\":\"1106\",\"type\":\"Selection\"},{\"attributes\":{},\"id\":\"1105\",\"type\":\"UnionRenderers\"},{\"attributes\":{},\"id\":\"1205\",\"type\":\"Selection\"},{\"attributes\":{\"line_alpha\":0.1,\"line_color\":\"green\",\"line_dash\":[6],\"x\":{\"field\":\"x\"},\"y\":{\"field\":\"y\"}},\"id\":\"1141\",\"type\":\"Line\"},{\"attributes\":{\"line_alpha\":0.1,\"line_color\":\"purple\",\"x\":{\"field\":\"x\"},\"y\":{\"field\":\"y\"}},\"id\":\"1110\",\"type\":\"Line\"},{\"attributes\":{\"line_color\":\"purple\",\"x\":{\"field\":\"x\"},\"y\":{\"field\":\"y\"}},\"id\":\"1109\",\"type\":\"Line\"},{\"attributes\":{\"data\":{\"x\":{\"__ndarray__\":\"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\",\"dtype\":\"float64\",\"order\":\"little\",\"shape\":[249]},\"y\":{\"__ndarray__\":\"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\",\"dtype\":\"float64\",\"order\":\"little\",\"shape\":[249]}},\"selected\":{\"id\":\"1170\"},\"selection_policy\":{\"id\":\"1169\"}},\"id\":\"1139\",\"type\":\"ColumnDataSource\"},{\"attributes\":{\"data\":{\"x\":{\"__ndarray__\":\"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\",\"dtype\":\"float64\",\"order\":\"little\",\"shape\":[249]},\"y\":{\"__ndarray__\":\"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\",\"dtype\":\"float64\",\"order\":\"little\",\"shape\":[249]}},\"selected\":{\"id\":\"1137\"},\"selection_policy\":{\"id\":\"1136\"}},\"id\":\"1108\",\"type\":\"ColumnDataSource\"},{\"attributes\":{\"label\":{\"value\":\"N\\u00e9met betegek\"},\"renderers\":[{\"id\":\"1111\"}]},\"id\":\"1138\",\"type\":\"LegendItem\"},{\"attributes\":{},\"id\":\"1137\",\"type\":\"Selection\"},{\"attributes\":{},\"id\":\"1136\",\"type\":\"UnionRenderers\"},{\"attributes\":{\"data\":{\"x\":{\"__ndarray__\":\"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\",\"dtype\":\"float64\",\"order\":\"little\",\"shape\":[249]},\"y\":{\"__ndarray__\":\"AAAAAAAAAAAAAAAAAAAAAAAAAAAAAAAAAAAAAAAAAAAAAAAAAAAAAAAAAAAAAAAAAAAAAAAAAAAAAAAAAAAAAAAAAAAAAAAAAAAAAAAAAAAAAAAAAAAAAAAAAAAAAAAAAAAAAAAAAAAAAAAAAAAAAAAAAAAAAAAAAAAAAAAAAAAAAAAAAAAAAAAAAAAAAAAAAAAAAAAAAAAAAAAAAAAAAAAAAAAAAAAAAAAAAAAAAAAAAAAAAAAAAAAAAAAAAAAAAAAAAAAAAAAAAAAAAAAAAAAAAAAAAAAAAAAAAAAAAAAAAAAAAAAAAAAAAAAAAAAAAAAAAAAAAAAAAAAAAAAAAAAAAAAAAAAAAAAAAAAAAAAAAAAAAAAAAAAAAAAAAAAAAAAAAAAAAAAAAAAAAAAAAAAAAAAAAAAAAAAAAAAAAAAAAAAAAAAAAAAAAAAAAAAAAAAAAAAAAAAAAAAAAAAAAAAAAAAAAAAAAAAAAAAAAAAAAAAAAAAAALrb0cFnlS8/utvRwWeVLz/MZF3RDbA3P8xkXdENsDc/Q6CXybqiSz+ZCwZdCsRRPxBHQFW3tlU/u3z3Hl/HYD/MZF3RDbBnP0Ogl8m6oms/EEdAVbe2dT8E2XNPNIiAPzK4MRcMuoQ/XR1WMrgxhz8lqT+0kVmOP8Gz3aGgXpM/0N72fTlqmT8W8JKbaXigP8Ytd07MGKU/U/ppP9q1qj+fe6JBhHCwP6dv1Zrb5LM/DJTwRlPntz9piyI4O2C8PyXPY/VhEsE/KwZKeKOpwz9tdyio10TGP/JP6D+Obcg/crgL88rpyz9MlMoiEhfPP9Mp15DeHNI/yoHsuSca1D9ftH7H/VXVP8Ytd07MGNU//bQf7VpN1z/3RIMI4aDYP5Wk/tBGZtk/0KVAHAFV3T+e2nzkjD7fP7t89x5fx+A/cpLnsfow4T9Sy7ClU67hP1l9mES8vuI/xzYMp4Jn4z8QNK40T1rkP0EJbzR1fuU/f45H9Aw15j/KNaQ3h6jmPwrXo3A9Cuc/wF4Ax0me5z+rD5OI11foPw7DqeDZ7ug/HaJ6OtKI6T8tD9/QWfjpP5dhS6dcQ+o/uXNixqh46j+ZrCu6AfbqP5msK7oB9uo/+rWHXFYM7D9FXeSf0H/sPx8Tf45H9Ow/40rzpMUa7T8NbswFgy7tP2SpGZBQie0/XQrEEVDV7T8CCZVYtk7uP9hXKLtpZe4/GRVPbT5y7j/6aT/atZruP1/HEOhlsu4/QRwBVd3a7j/Ii+mB2SfvP/EgL6YHZu8/3nt8HUOg7z/S54vW77jvPzzIi+mB2e8/gwjhoDjv7z+DQZcCcQTwPxcMuhSII/A/t6ODzyo/8D9w1Zrb5FPwP+zMuTqsZPA/Lorg7IBx8D/40hZFcHbwPydAaEnXffA/Y3pg9smB8D9FlpoBCZXwP3qGGgtSpfA/5S1kvKuw8D8Vm7XAErjwP27yKcT+vfA/ODtgHO7C8D+pZdjSKdfwPyDayCwP3/A/tGs13e3o8D/GuwqLW+7wP5EEQeNK8/A/zD45kD338D95avORM/rwPxnJBuudAPE/wKpISeoP8T9yWTFQwhvxP8uwpVOuIfE/B+udAKEl8T8H650AoSXxPyUIGleaJ/E/VHVrWwEv8T882x0K6jXxP5Uykg3WO/E/j+gZaixI8T9l/vZqp0nxP2X+9mqnSfE/oTjvF5pN8T+JnqHGglTxP+7CvHL6VvE/ABOSIGhc8T8eMA53YV7xP+h4RM9QY/E/vo4h0Mtk8T93h4J6TWTxP0HQuNI8afE/KTZrgSVw8T87hkAvk3XxP+ix+jCJePE/3ORTiP178T8j7PLde3zxP/kB0N72ffE/Fx9MNfB/8T+mLYrg7IDxP5pg4zdhhPE/4WeCjd+E8T+4fV+OWobxP/+E/uPYhvE/jpM8j9WH8T/zt1c7TYrxP8nNNDzIi/E/BQgt6bqP8T/PUGNBqpTxP+1t35ejlvE/7W3fl6OW8T80dX7tIZfxP+GgOO8XmvE//720RRGc8T+C/0tIgqDxP1gVKUn9ofE/TEiCoHGl8T9MSIKgcaXxP0xIgqBxpfE/z4kZo+Kp8T9G/gn9x7HxP9UMSKjEsvE/vXL6Vq258T9pnrRYo7zxP7GlU64hvfE/+KzyA6C98T9d0Q2wF8DxP8P1KFyPwvE/4BKlsojE8T+BcbgL88rxP+aV07dqzfE/5pXTt2rN8T8unXIN6c3xP5PBjblg0PE/zvuFZlPU8T+2YTgVPNvxP413FRa33PE/OaPPF63f8T8PuawYKOHxP1fAS26m4fE/vORmGh7k8T/aAeNwF+bxPz8m/hyP6PE/Pyb+HI/o8T/CZ5UfAO3xPwlvNHV+7fE/4IQRdvnu8T/9oY3M8vDxPy0P39BZ+PE/LQ/f0Fn48T+SM/p80frxPyFCOCjO+/E/aEnXfUz88T+wUHbTyvzxPxV1kX9C//E/waBLgTgC8j+YtiiCswPyP27MBYMuBfI/jOmB2ScH8j8b+L+EJAjyP6oG/i8hCfI/u1bT3Y4O8j9ogo3fhBHyPz6YauD/EvI/CeGgOO8X8j+X797j6xjyPyb+HI/oGfI/Jv4cj+gZ8j9Wa26TTyHyP1zunJgxKvI//Eyw8Zsw8j8sugH2AjjyP2f0+aL1O/I/\",\"dtype\":\"float64\",\"order\":\"little\",\"shape\":[249]}},\"selected\":{\"id\":\"1205\"},\"selection_policy\":{\"id\":\"1204\"}},\"id\":\"1172\",\"type\":\"ColumnDataSource\"},{\"attributes\":{\"source\":{\"id\":\"1139\"}},\"id\":\"1143\",\"type\":\"CDSView\"},{\"attributes\":{\"label\":{\"value\":\"N\\u00e9met gy\\u00f3gyultak\"},\"renderers\":[{\"id\":\"1142\"}]},\"id\":\"1171\",\"type\":\"LegendItem\"},{\"attributes\":{},\"id\":\"1170\",\"type\":\"Selection\"},{\"attributes\":{},\"id\":\"1169\",\"type\":\"UnionRenderers\"},{\"attributes\":{},\"id\":\"1006\",\"type\":\"DataRange1d\"},{\"attributes\":{\"axis\":{\"id\":\"1018\"},\"dimension\":1,\"ticker\":null},\"id\":\"1021\",\"type\":\"Grid\"},{\"attributes\":{},\"id\":\"1032\",\"type\":\"DatetimeTickFormatter\"},{\"attributes\":{\"num_minor_ticks\":5,\"tickers\":[{\"id\":\"1036\"},{\"id\":\"1037\"},{\"id\":\"1038\"},{\"id\":\"1039\"},{\"id\":\"1040\"},{\"id\":\"1041\"},{\"id\":\"1042\"},{\"id\":\"1043\"},{\"id\":\"1044\"},{\"id\":\"1045\"},{\"id\":\"1046\"},{\"id\":\"1047\"}]},\"id\":\"1015\",\"type\":\"DatetimeTicker\"},{\"attributes\":{\"axis_label\":\"Esetek sz\\u00e1ma / 10 000 F\\u0151\",\"formatter\":{\"id\":\"1034\"},\"ticker\":{\"id\":\"1019\"}},\"id\":\"1018\",\"type\":\"LinearAxis\"},{\"attributes\":{},\"id\":\"1012\",\"type\":\"LinearScale\"},{\"attributes\":{\"items\":[{\"id\":\"1051\"},{\"id\":\"1078\"},{\"id\":\"1107\"},{\"id\":\"1138\"},{\"id\":\"1171\"},{\"id\":\"1206\"}],\"location\":\"top_left\"},\"id\":\"1050\",\"type\":\"Legend\"},{\"attributes\":{\"axis\":{\"id\":\"1014\"},\"ticker\":null},\"id\":\"1017\",\"type\":\"Grid\"},{\"attributes\":{\"months\":[0,2,4,6,8,10]},\"id\":\"1044\",\"type\":\"MonthsTicker\"},{\"attributes\":{},\"id\":\"1034\",\"type\":\"BasicTickFormatter\"},{\"attributes\":{},\"id\":\"1022\",\"type\":\"CrosshairTool\"},{\"attributes\":{\"text\":\"COVID 19\"},\"id\":\"1004\",\"type\":\"Title\"},{\"attributes\":{},\"id\":\"1019\",\"type\":\"BasicTicker\"},{\"attributes\":{\"mantissas\":[1,2,5],\"max_interval\":500.0,\"num_minor_ticks\":0},\"id\":\"1036\",\"type\":\"AdaptiveTicker\"},{\"attributes\":{\"data_source\":{\"id\":\"1079\"},\"glyph\":{\"id\":\"1080\"},\"hover_glyph\":null,\"muted_glyph\":null,\"nonselection_glyph\":{\"id\":\"1081\"},\"selection_glyph\":null,\"view\":{\"id\":\"1083\"}},\"id\":\"1082\",\"type\":\"GlyphRenderer\"},{\"attributes\":{\"base\":60,\"mantissas\":[1,2,5,10,15,20,30],\"max_interval\":1800000.0,\"min_interval\":1000.0,\"num_minor_ticks\":0},\"id\":\"1037\",\"type\":\"AdaptiveTicker\"},{\"attributes\":{},\"id\":\"1049\",\"type\":\"Selection\"},{\"attributes\":{},\"id\":\"1048\",\"type\":\"UnionRenderers\"},{\"attributes\":{\"days\":[1,8,15,22]},\"id\":\"1041\",\"type\":\"DaysTicker\"},{\"attributes\":{\"months\":[0,4,8]},\"id\":\"1045\",\"type\":\"MonthsTicker\"},{\"attributes\":{\"line_alpha\":0.1,\"line_color\":\"red\",\"x\":{\"field\":\"x\"},\"y\":{\"field\":\"y\"}},\"id\":\"1028\",\"type\":\"Line\"},{\"attributes\":{\"axis_label\":\"D\\u00e1tum\",\"formatter\":{\"id\":\"1032\"},\"ticker\":{\"id\":\"1015\"}},\"id\":\"1014\",\"type\":\"DatetimeAxis\"},{\"attributes\":{\"months\":[0,1,2,3,4,5,6,7,8,9,10,11]},\"id\":\"1043\",\"type\":\"MonthsTicker\"},{\"attributes\":{\"source\":{\"id\":\"1026\"}},\"id\":\"1030\",\"type\":\"CDSView\"},{\"attributes\":{\"base\":24,\"mantissas\":[1,2,4,6,8,12],\"max_interval\":43200000.0,\"min_interval\":3600000.0,\"num_minor_ticks\":0},\"id\":\"1038\",\"type\":\"AdaptiveTicker\"},{\"attributes\":{},\"id\":\"1047\",\"type\":\"YearsTicker\"},{\"attributes\":{\"data\":{\"x\":{\"__ndarray__\":\"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\",\"dtype\":\"float64\",\"order\":\"little\",\"shape\":[249]},\"y\":{\"__ndarray__\":\"AAAAAAAAAAAAAAAAAAAAAAAAAAAAAAAAAAAAAAAAAAAAAAAAAAAAAAAAAAAAAAAAAAAAAAAAAAAAAAAAAAAAAAAAAAAAAAAAAAAAAAAAAAAAAAAAAAAAAAAAAAAAAAAAAAAAAAAAAAAAAAAAAAAAAAAAAAAAAAAAAAAAAAAAAAAAAAAAAAAAAAAAAAAAAAAAAAAAAAAAAAAAAAAAAAAAAAAAAAAAAAAAAAAAAAAAAAAAAAAAAAAAAAAAAAAAAAAAAAAAAAAAAAAAAAAAAAAAAAAAAAAAAAAAAAAAAAAAAAAAAAAAAAAAAAAAAAAAAAAAAAAAAAAAAAAAAAAAAAAAAAAAAAAAAAAAAAAAAAAAAAAAAAAAAAAAAAAAAAAAAAAAAAAAAAAAAAAAAAAAAAAAAAAAAAAAAAAAAAAAAAAAAAAAAAAAAAAAAAAAAAAAAAAAAAAAAAAAAAAAAAAAAAAAAAAAAAAAAAAAAAAAAAAAAAAAAAAAAAAAAAAAAAAAAAAAAAAAAAAAAAAAAAAAAAAAAAAAAAAAAAAAAAAAAAAAAAD8qfHSTWJQP/yp8dJNYlA//Knx0k1iUD/8qfHSTWJgP/yp8dJNYmA//Knx0k1iYD/8qfHSTWJgP3npJjEIrHw//Knx0k1ikD/8qfHSTWKQPxsv3SQGgZU/Gy/dJAaBlT956SYxCKycP5zEILByaKE/nMQgsHJooT+cxCCwcmihP5zEILByaKE/i2zn+6nxoj97FK5H4XqkPxsv3SQGgaU/arx0kxgEpj8ZBFYOLbKtP0w3iUFg5bA/9P3UeOkmsT+TGARWDi2yP6rx0k1iELg/+n5qvHSTuD956SYxCKy8P3E9CtejcL0/aJHtfD81vj+4HoXrUbi+PwisHFpkO78/+n5qvHSTyD9GtvP91HjJP+XQItv5fso/xSCwcmiRzT8AAAAAAADQP0oMAiuHFtE/ke18PzVe0j/hehSuR+HSP/YoXI/C9dg/HVpkO99P3T8dWmQ730/dPwrXo3A9Ct8/rBxaZDvf3z9QjZduEoPgP/T91HjpJuE/ZDvfT42X4j+wcmiR7XzjPwAAAAAAAOQ/VOOlm8Qg5D8pXI/C9SjkP+Olm8QgsOY/fT81XrpJ6D9vEoPAyqHpP65H4XoUrus/IbByaJHt7D9CYOXQItvtPw4tsp3vp+4/6SYxCKwc8D9vEoPAyqHxP05iEFg5tPI/ZDvfT42X9D9WDi2yne/1P7x0kxgEVvY/ZmZmZmZm9j9kO99PjZf2P90kBoGVQ/c/vp8aL90k+D8xCKwcWmT5P3sUrkfhevo/CtejcD0K+z/HSzeJQWD7P8dLN4lBYP0/GQRWDi2y/T9WDi2yne//P/7UeOkmMQBAiUFg5dAiAUCTGARWDi0BQHNoke18PwFASOF6FK5HAUCF61G4HoUBQKRwPQrXowFA9ihcj8L1AUAIrBxaZDsCQAisHFpkOwJAEoPAyqFFAkBkO99PjZcCQNejcD0K1wJAVOOlm8QgA0D6fmq8dJMDQAIrhxbZzgNAQmDl0CLbA0DhehSuR+EDQFTjpZvEIARAx0s3iUFgBEBQjZduEoMEQNnO91PjpQRArkfhehSuBECDwMqhRbYEQLgehetRuARAzczMzMzMBECLbOf7qfEEQB+F61G4HgVA5/up8dJNBUCmm8QgsHIFQHsUrkfhegVAexSuR+F6BUDwp8ZLN4kFQIPAyqFFtgVA+FPjpZvEBUBqvHSTGAQGQBKDwMqhRQZAsHJoke18BkDhehSuR+EGQMuhRbbz/QZAFK5H4XoUB0B/arx0kxgHQLpJDAIrhwdAmG4Sg8DKB0B9PzVeukkIQC/dJAaBlQhADAIrhxbZCEA1XrpJDAIJQHNoke18PwlAw/UoXI/CCUAtsp3vp8YJQGIQWDm0yAlAQmDl0CLbCUB1kxgEVg4KQN0kBoGVQwpAZmZmZmZmCkDl0CLb+X4KQGQ730+NlwpAbxKDwMqhCkBvEoPAyqEKQNnO91PjpQpAg8DKoUW2CkD4U+Olm8QKQG3n+6nx0gpAtvP91HjpCkDpJjEIrBwLQOf7qfHSTQtAUrgehetRC0Cmm8QgsHILQE5iEFg5tAtAg8DKoUW2C0AhsHJoke0LQMuhRbbz/QtAMzMzMzMzDECe76fGSzcMQAisHFpkOwxAsHJoke18DEC4HoXrUbgMQAwCK4cW2QxAlkOLbOf7DEAK16NwPQoNQD81XrpJDA1AUrgehetRDUAGgZVDi2wNQKabxCCwcg1A8KfGSzeJDUCPwvUoXI8NQI/C9Shcjw1A7nw/NV66DUCsHFpkO98NQHWTGARWDg5A30+Nl24SDkDfT42XbhIOQN9PjZduEg5ASgwCK4cWDkDFILByaJEOQNNNYhBYOQ9AcT0K16NwD0BaZDvfT40PQARWDi2ynQ9ARIts5/upD0DjpZvEILAPQC2yne+nxg9ArBxaZDvfD0DsUbgehesPQHWTGARWDhBACKwcWmQ7EEAtsp3vp0YQQCuHFtnOdxBAhetRuB6FEEDpJjEIrJwQQJzEILBy6BBA9ihcj8L1EEC6SQwCK4cRQKrx0k1ikBFAtMh2vp+aEUAj2/l+ajwSQPp+arx0kxJAEoPAyqFFE0BI4XoUrscTQEw3iUFgZRRA\",\"dtype\":\"float64\",\"order\":\"little\",\"shape\":[249]}},\"selected\":{\"id\":\"1077\"},\"selection_policy\":{\"id\":\"1076\"}},\"id\":\"1052\",\"type\":\"ColumnDataSource\"},{\"attributes\":{\"data_source\":{\"id\":\"1052\"},\"glyph\":{\"id\":\"1053\"},\"hover_glyph\":null,\"muted_glyph\":null,\"nonselection_glyph\":{\"id\":\"1054\"},\"selection_glyph\":null,\"view\":{\"id\":\"1056\"}},\"id\":\"1055\",\"type\":\"GlyphRenderer\"},{\"attributes\":{\"data\":{\"x\":{\"__ndarray__\":\"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\",\"dtype\":\"float64\",\"order\":\"little\",\"shape\":[249]},\"y\":{\"__ndarray__\":\"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\",\"dtype\":\"float64\",\"order\":\"little\",\"shape\":[249]}},\"selected\":{\"id\":\"1049\"},\"selection_policy\":{\"id\":\"1048\"}},\"id\":\"1026\",\"type\":\"ColumnDataSource\"},{\"attributes\":{\"days\":[1,2,3,4,5,6,7,8,9,10,11,12,13,14,15,16,17,18,19,20,21,22,23,24,25,26,27,28,29,30,31]},\"id\":\"1039\",\"type\":\"DaysTicker\"},{\"attributes\":{\"days\":[1,4,7,10,13,16,19,22,25,28]},\"id\":\"1040\",\"type\":\"DaysTicker\"},{\"attributes\":{\"months\":[0,6]},\"id\":\"1046\",\"type\":\"MonthsTicker\"},{\"attributes\":{\"days\":[1,15]},\"id\":\"1042\",\"type\":\"DaysTicker\"},{\"attributes\":{\"line_color\":\"red\",\"x\":{\"field\":\"x\"},\"y\":{\"field\":\"y\"}},\"id\":\"1027\",\"type\":\"Line\"},{\"attributes\":{\"data\":{\"x\":{\"__ndarray__\":\"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\",\"dtype\":\"float64\",\"order\":\"little\",\"shape\":[249]},\"y\":{\"__ndarray__\":\"AAAAAAAAAAAAAAAAAAAAAAAAAAAAAAAAAAAAAAAAAAAAAAAAAAAAAAAAAAAAAAAAAAAAAAAAAAAAAAAAAAAAAAAAAAAAAAAAAAAAAAAAAAAAAAAAAAAAAAAAAAAAAAAAAAAAAAAAAAAAAAAAAAAAAAAAAAAAAAAAAAAAAAAAAAAAAAAAAAAAAAAAAAAAAAAAAAAAAAAAAAAAAAAAAAAAAAAAAAAAAAAAAAAAAAAAAAAAAAAAAAAAAAAAAAAAAAAAAAAAAAAAAAAAAAAAAAAAAAAAAAAAAAAAAAAAAAAAAAAAAAAAAAAAAAAAAAAAAAAAAAAAAAAAAAAAAAAAAAAAAAAAAAAAAAAAAAAAAAAAAAAAAAAAAAAAAAAAAAAAAAAAAAAAAAAAAAAAAAAAAAAAAAAAAAAAAAAAAAAAAAAAAAAAAAAAAAAAAAAAAAAAAAAAAAAAAAAAAAAAAAAAAAAAAAAAAAAAAAAAAAAAAAAAAAAAAAAAAAAAAAAAAAAAAAAAAAAAAAAAAAAAAAAAAAAAAAAAAAAAAAAAAAAAAAAAAAAAAAAAAAAAAPyp8dJNYlA//Knx0k1iUD/8qfHSTWJQP/yp8dJNYlA//Knx0k1iUD/6fmq8dJNoP/yp8dJNYnA/+n5qvHSTeD956SYxCKx8PzvfT42XboI/exSuR+F6hD97FK5H4XqEP3sUrkfheoQ/ukkMAiuHhj85tMh2vp+KP7gehetRuI4//Knx0k1ikD97FK5H4XqUPxsv3SQGgZU/ObTIdr6fmj/8qfHSTWKgP5zEILByaKE/2/l+arx0oz+q8dJNYhCoPxkEVg4tsq0/TDeJQWDlsD+DwMqhRbazP8P1KFyPwrU/8tJNYhBYuT+BlUOLbOe7PwisHFpkO78/9P3UeOkmwT+TGARWDi3CPyuHFtnO98M/arx0kxgExj/+1HjpJjHIP0a28/3UeMk/3SQGgZVDyz/NzMzMzMzMP2Q730+Nl84/+FPjpZvE0D/4U+Olm8TQP5zEILByaNE/7FG4HoXr0T85tMh2vp/SPzMzMzMzM9M/K4cW2c730z956SYxCKzUP3E9CtejcNU/w/UoXI/C1T8QWDm0yHbWPwisHFpkO9c/rBxaZDvf1z9QjZduEoPYP0oMAiuHFtk/7FG4HoXr2T8730+Nl27aP4ts5/up8do/MzMzMzMz2z+F61G4HoXbP4GVQ4ts59s/fT81XrpJ3D956SYxCKzcP3e+nxov3dw/xSCwcmiR3T8X2c73U+PdPxSuR+F6FN4/EoPAyqFF3j8QWDm0yHbePwwCK4cW2d4/tMh2vp8a3z8GgZVDi2zfP1YOLbKd798/KVyPwvUo4D99PzVeukngPyUGgZVDi+A/+FPjpZvE4D+iRbbz/dTgP3e+nxov3eA/oBov3SQG4T9KDAIrhxbhP3Noke18P+E/8tJNYhBY4T9xPQrXo3DhP0a28/3UeOE/8KfGSzeJ4T+amZmZmZnhP28Sg8DKoeE/GQRWDi2y4T/D9Shcj8LhPxfZzvdT4+E/lkOLbOf74T9qvHSTGATiPxSuR+F6FOI/vp8aL90k4j+TGARWDi3iP5MYBFYOLeI/PQrXo3A94j89CtejcD3iP+f7qfHSTeI/vHSTGARW4j8730+Nl27iPxBYObTIduI/5dAi2/l+4j/l0CLb+X7iP2Q730+Nl+I/uB6F61G44j+4HoXrUbjiP42XbhKDwOI/YhBYObTI4j83iUFg5dDiPwwCK4cW2eI/DAIrhxbZ4j8MAiuHFtniPwwCK4cW2eI/DAIrhxbZ4j+28/3UeOniP2Dl0CLb+eI/CtejcD0K4z8K16NwPQrjPwrXo3A9CuM/CtejcD0K4z8K16NwPQrjPwrXo3A9CuM/CtejcD0K4z/fT42XbhLjP99PjZduEuM/30+Nl24S4z/fT42XbhLjP99PjZduEuM/30+Nl24S4z/fT42XbhLjP99PjZduEuM/30+Nl24S4z/fT42XbhLjP99PjZduEuM/30+Nl24S4z/fT42XbhLjP99PjZduEuM/tMh2vp8a4z+0yHa+nxrjP7TIdr6fGuM/iUFg5dAi4z9eukkMAivjPzMzMzMzM+M/3SQGgZVD4z/dJAaBlUPjP90kBoGVQ+M/XI/C9Shc4z9cj8L1KFzjP1yPwvUoXOM/BoGVQ4ts4z8GgZVDi2zjPwaBlUOLbOM/2/l+arx04z/b+X5qvHTjP7ByaJHtfOM/sHJoke184z+wcmiR7XzjP1pkO99PjeM/WmQ730+N4z8EVg4tsp3jPwRWDi2yneM/2c73U+Ol4z/ZzvdT46XjP9nO91PjpeM/2c73U+Ol4z/ZzvdT46XjP9nO91PjpeM/rkfhehSu4z+DwMqhRbbjPwIrhxbZzuM/16NwPQrX4z+sHFpkO9/jPyuHFtnO9+M/K4cW2c734z8AAAAAAADkP9V46SYxCOQ/f2q8dJMY5D8pXI/C9SjkP/7UeOkmMeQ/qMZLN4lB5D/8qfHSTWLkPyUGgZVDi+Q/eekmMQis5D8hsHJoke3kP57vp8ZLN+U/nMQgsHJo5T+amZmZmZnlP0Jg5dAi2+U/wcqhRbbz5T9oke18PzXmPxBYObTIduY/46WbxCCw5j9g5dAi2/nmP1yPwvUoXOc/\",\"dtype\":\"float64\",\"order\":\"little\",\"shape\":[249]}},\"selected\":{\"id\":\"1106\"},\"selection_policy\":{\"id\":\"1105\"}},\"id\":\"1079\",\"type\":\"ColumnDataSource\"},{\"attributes\":{\"source\":{\"id\":\"1052\"}},\"id\":\"1056\",\"type\":\"CDSView\"},{\"attributes\":{\"active_drag\":\"auto\",\"active_inspect\":\"auto\",\"active_multi\":null,\"active_scroll\":\"auto\",\"active_tap\":\"auto\",\"tools\":[{\"id\":\"1002\"},{\"id\":\"1022\"}]},\"id\":\"1023\",\"type\":\"Toolbar\"},{\"attributes\":{\"line_alpha\":0.1,\"line_color\":\"blue\",\"line_dash\":[6],\"x\":{\"field\":\"x\"},\"y\":{\"field\":\"y\"}},\"id\":\"1054\",\"type\":\"Line\"},{\"attributes\":{\"data_source\":{\"id\":\"1026\"},\"glyph\":{\"id\":\"1027\"},\"hover_glyph\":null,\"muted_glyph\":null,\"nonselection_glyph\":{\"id\":\"1028\"},\"selection_glyph\":null,\"view\":{\"id\":\"1030\"}},\"id\":\"1029\",\"type\":\"GlyphRenderer\"},{\"attributes\":{\"line_color\":\"blue\",\"line_dash\":[6],\"x\":{\"field\":\"x\"},\"y\":{\"field\":\"y\"}},\"id\":\"1053\",\"type\":\"Line\"},{\"attributes\":{\"line_color\":\"green\",\"line_dash\":[6],\"x\":{\"field\":\"x\"},\"y\":{\"field\":\"y\"}},\"id\":\"1140\",\"type\":\"Line\"},{\"attributes\":{\"data_source\":{\"id\":\"1172\"},\"glyph\":{\"id\":\"1173\"},\"hover_glyph\":null,\"muted_glyph\":null,\"nonselection_glyph\":{\"id\":\"1174\"},\"selection_glyph\":null,\"view\":{\"id\":\"1176\"}},\"id\":\"1175\",\"type\":\"GlyphRenderer\"},{\"attributes\":{},\"id\":\"1008\",\"type\":\"DataRange1d\"},{\"attributes\":{\"label\":{\"value\":\"Magyar gy\\u00f3gyultak\"},\"renderers\":[{\"id\":\"1055\"}]},\"id\":\"1078\",\"type\":\"LegendItem\"},{\"attributes\":{\"label\":{\"value\":\"Magyar betegek\"},\"renderers\":[{\"id\":\"1029\"}]},\"id\":\"1051\",\"type\":\"LegendItem\"},{\"attributes\":{},\"id\":\"1076\",\"type\":\"UnionRenderers\"}],\"root_ids\":[\"1003\"]},\"title\":\"Bokeh Application\",\"version\":\"2.2.1\"}};\n",
       "  var render_items = [{\"docid\":\"eecb82f9-156e-4904-a902-9934d559b5fd\",\"root_ids\":[\"1003\"],\"roots\":{\"1003\":\"da7bf788-75ce-4575-a681-8c7b67f15a0f\"}}];\n",
       "  root.Bokeh.embed.embed_items_notebook(docs_json, render_items);\n",
       "\n",
       "  }\n",
       "  if (root.Bokeh !== undefined) {\n",
       "    embed_document(root);\n",
       "  } else {\n",
       "    var attempts = 0;\n",
       "    var timer = setInterval(function(root) {\n",
       "      if (root.Bokeh !== undefined) {\n",
       "        clearInterval(timer);\n",
       "        embed_document(root);\n",
       "      } else {\n",
       "        attempts++;\n",
       "        if (attempts > 100) {\n",
       "          clearInterval(timer);\n",
       "          console.log(\"Bokeh: ERROR: Unable to run BokehJS code because BokehJS library is missing\");\n",
       "        }\n",
       "      }\n",
       "    }, 10, root)\n",
       "  }\n",
       "})(window);"
      ],
      "application/vnd.bokehjs_exec.v0+json": ""
     },
     "metadata": {
      "application/vnd.bokehjs_exec.v0+json": {
       "id": "1003"
      }
     },
     "output_type": "display_data"
    }
   ],
   "source": [
    "show(p)"
   ]
  },
  {
   "cell_type": "markdown",
   "metadata": {},
   "source": []
  }
 ],
 "metadata": {
  "kernelspec": {
   "display_name": "Python 3",
   "language": "python",
   "name": "python3"
  },
  "language_info": {
   "codemirror_mode": {
    "name": "ipython",
    "version": 3
   },
   "file_extension": ".py",
   "mimetype": "text/x-python",
   "name": "python",
   "nbconvert_exporter": "python",
   "pygments_lexer": "ipython3",
   "version": "3.8.2"
  }
 },
 "nbformat": 4,
 "nbformat_minor": 4
}
