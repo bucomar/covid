{
  "cells": [
    {
      "cell_type": "markdown",
      "source": [
        "# COVID 19 grafikon Pythonnal meg Atom-Hydrogen-nel.\n"
      ],
      "metadata": {
        "nteract": {
          "transient": {
            "deleting": false
          }
        }
      }
    },
    {
      "cell_type": "markdown",
      "source": [
        "Szükséges csomagok importálása.\n"
      ],
      "metadata": {
        "nteract": {
          "transient": {
            "deleting": false
          }
        }
      }
    },
    {
      "cell_type": "code",
      "source": [
        "import pandas as pd\n",
        "from bokeh.plotting import figure\n",
        "from bokeh.io import output_file, show\n",
        "from bokeh.models import HoverTool\n",
        "from bokeh.io import output_notebook\n",
        "from bokeh.resources import INLINE\n"
      ],
      "outputs": [],
      "execution_count": null,
      "metadata": {
        "collapsed": true,
        "jupyter": {
          "source_hidden": false,
          "outputs_hidden": false
        },
        "nteract": {
          "transient": {
            "deleting": false
          }
        }
      }
    },
    {
      "cell_type": "markdown",
      "source": [
        "Országok és lakosságuk.\n"
      ],
      "metadata": {
        "nteract": {
          "transient": {
            "deleting": false
          }
        }
      }
    },
    {
      "cell_type": "code",
      "source": [
        "countryes = ['Hungary', 'Germany']\n",
        "pop = [1000, 8300]\n",
        "\n",
        "print(countryes)\n",
        "print(pop)\n"
      ],
      "outputs": [],
      "execution_count": null,
      "metadata": {
        "collapsed": true,
        "jupyter": {
          "source_hidden": false,
          "outputs_hidden": false
        },
        "nteract": {
          "transient": {
            "deleting": false
          }
        }
      }
    },
    {
      "cell_type": "markdown",
      "source": [
        "\n",
        "Adatforrások definiálása.  \n",
        "Az adatok innen származnak: \n",
        "https://data.humdata.org/dataset/novel-coronavirus-2019-ncov-cases\n"
      ],
      "metadata": {
        "nteract": {
          "transient": {
            "deleting": false
          }
        }
      }
    },
    {
      "cell_type": "code",
      "source": [
        "url_c = 'https://data.humdata.org/hxlproxy/api/data-preview.csv?url=https%3A%2F%2Fraw.githubusercontent.com%2FCSSEGISandData%2FCOVID-19%2Fmaster%2Fcsse_covid_19_data%2Fcsse_covid_19_time_series%2Ftime_series_covid19_confirmed_global.csv&filename=time_series_covid19_confirmed_global.csv'\n",
        "url_d = 'https://data.humdata.org/hxlproxy/api/data-preview.csv?url=https%3A%2F%2Fraw.githubusercontent.com%2FCSSEGISandData%2FCOVID-19%2Fmaster%2Fcsse_covid_19_data%2Fcsse_covid_19_time_series%2Ftime_series_covid19_deaths_global.csv&filename=time_series_covid19_deaths_global.csv'\n",
        "url_r = 'https://data.humdata.org/hxlproxy/api/data-preview.csv?url=https%3A%2F%2Fraw.githubusercontent.com%2FCSSEGISandData%2FCOVID-19%2Fmaster%2Fcsse_covid_19_data%2Fcsse_covid_19_time_series%2Ftime_series_covid19_recovered_global.csv&filename=time_series_covid19_recovered_global.csv'\n"
      ],
      "outputs": [],
      "execution_count": null,
      "metadata": {
        "collapsed": true,
        "jupyter": {
          "source_hidden": false,
          "outputs_hidden": false
        },
        "nteract": {
          "transient": {
            "deleting": false
          }
        }
      }
    },
    {
      "cell_type": "markdown",
      "source": [
        "Felesleges oszlopok eltávolítása.\n"
      ],
      "metadata": {
        "nteract": {
          "transient": {
            "deleting": false
          }
        }
      }
    },
    {
      "cell_type": "code",
      "source": [
        "def prep(url):\n",
        "    # Index=Countries, Columns=Datum, Values=Values\n",
        "    df = pd.read_csv(url)\n",
        "    df.set_index('Country/Region', inplace=True)\n",
        "    df.drop(columns=['Province/State', 'Lat', 'Long'], inplace=True)\n",
        "    return df\n",
        "\n",
        "conf = prep(url_c)\n",
        "death = prep(url_d)\n",
        "rec = prep(url_r)\n",
        "\n",
        "print(conf.head())\n",
        "print(death.head())\n",
        "print(rec.head())\n"
      ],
      "outputs": [],
      "execution_count": null,
      "metadata": {
        "collapsed": true,
        "jupyter": {
          "source_hidden": false,
          "outputs_hidden": false
        },
        "nteract": {
          "transient": {
            "deleting": false
          }
        }
      }
    },
    {
      "cell_type": "markdown",
      "source": [
        "Kiválogatjuk az országokra vonatkozó sorokat.  \n",
        "Itt most Magyarország és Németország adatait gyüjtögetem ki.\n"
      ],
      "metadata": {
        "nteract": {
          "transient": {
            "deleting": false
          }
        }
      }
    },
    {
      "cell_type": "code",
      "source": [
        "hu_c = conf.loc[countryes[0]]\n",
        "hu_d = death.loc[countryes[0]]\n",
        "hu_r = rec.loc[countryes[0]]\n",
        "\n",
        "de_c = conf.loc[countryes[1]]\n",
        "de_d = death.loc[countryes[1]]\n",
        "de_r = rec.loc[countryes[1]]\n",
        "\n",
        "print(hu_c)\n",
        "print(hu_d)\n",
        "print(hu_r)\n",
        "print(de_c)\n",
        "print(de_d)\n",
        "print(de_r)\n"
      ],
      "outputs": [],
      "execution_count": null,
      "metadata": {
        "collapsed": true,
        "jupyter": {
          "source_hidden": false,
          "outputs_hidden": false
        },
        "nteract": {
          "transient": {
            "deleting": false
          }
        }
      }
    },
    {
      "cell_type": "markdown",
      "source": [
        "Időskálát is készítünk.  \n",
        "Itt ez úgy történik, hogy az egyik DataFrame dátum fejlécét dátumokká alakítom.\n"
      ],
      "metadata": {
        "nteract": {
          "transient": {
            "deleting": false
          }
        }
      }
    },
    {
      "cell_type": "code",
      "source": [
        "t = pd.to_datetime(hu_c.index)\n",
        "print(t)\n"
      ],
      "outputs": [],
      "execution_count": null,
      "metadata": {
        "collapsed": true,
        "jupyter": {
          "source_hidden": false,
          "outputs_hidden": false
        },
        "nteract": {
          "transient": {
            "deleting": false
          }
        }
      }
    },
    {
      "cell_type": "markdown",
      "source": [
        "Kiszedem az értékeket teljes lakosságra és 10000 főre vetítve is.\n"
      ],
      "metadata": {
        "nteract": {
          "transient": {
            "deleting": false
          }
        }
      }
    },
    {
      "cell_type": "code",
      "source": [
        "v_hu_c = hu_c.values\n",
        "v_hu_d = hu_d.values\n",
        "v_hu_r = hu_r.values\n",
        "\n",
        "v_de_c = de_c.values\n",
        "v_de_d = de_d.values\n",
        "v_de_r = de_r.values\n",
        "\n",
        "v_hu_c_pop = hu_c.values/pop[0]\n",
        "v_hu_d_pop = hu_d.values/pop[0]\n",
        "v_hu_r_pop = hu_r.values/pop[0]\n",
        "\n",
        "v_de_c_pop = de_c.values/pop[1]\n",
        "v_de_d_pop = de_d.values/pop[1]\n",
        "v_de_r_pop = de_r.values/pop[1]\n",
        "\n",
        "print(v_hu_c)\n",
        "print(v_hu_d)\n",
        "print(v_hu_r)\n",
        "print('stb...')\n",
        "print()\n",
        "print()\n"
      ],
      "outputs": [],
      "execution_count": null,
      "metadata": {
        "collapsed": true,
        "jupyter": {
          "source_hidden": false,
          "outputs_hidden": false
        },
        "nteract": {
          "transient": {
            "deleting": false
          }
        }
      }
    },
    {
      "cell_type": "markdown",
      "source": [
        "A grafikont itt a notebookban szeretnénk megjeleníteni.\n"
      ],
      "metadata": {
        "nteract": {
          "transient": {
            "deleting": false
          }
        }
      }
    },
    {
      "cell_type": "code",
      "source": [
        "output_notebook(INLINE)\n"
      ],
      "outputs": [],
      "execution_count": null,
      "metadata": {
        "collapsed": true,
        "jupyter": {
          "source_hidden": false,
          "outputs_hidden": false
        },
        "nteract": {
          "transient": {
            "deleting": false
          }
        }
      }
    },
    {
      "cell_type": "markdown",
      "source": [
        "Meghatározom, hogy az értékeket is mutassa a grafikonon.\n"
      ],
      "metadata": {
        "nteract": {
          "transient": {
            "deleting": false
          }
        }
      }
    },
    {
      "cell_type": "code",
      "source": [
        "hover = HoverTool(tooltips='@y', mode='vline')\n"
      ],
      "outputs": [],
      "execution_count": null,
      "metadata": {
        "collapsed": true,
        "jupyter": {
          "source_hidden": false,
          "outputs_hidden": false
        },
        "nteract": {
          "transient": {
            "deleting": false
          }
        }
      }
    },
    {
      "cell_type": "markdown",
      "source": [
        "Meghatározom a megjelenítendő koordinátarendszert.\n"
      ],
      "metadata": {
        "nteract": {
          "transient": {
            "deleting": false
          }
        }
      }
    },
    {
      "cell_type": "code",
      "source": [
        "p = figure(title='COVID 19', x_axis_label='Dátum', x_axis_type='datetime', y_axis_label='Esetek száma / 10 000 Fő', tools=[hover, 'crosshair'])\n"
      ],
      "outputs": [],
      "execution_count": null,
      "metadata": {
        "collapsed": true,
        "jupyter": {
          "source_hidden": false,
          "outputs_hidden": false
        },
        "nteract": {
          "transient": {
            "deleting": false
          }
        }
      }
    },
    {
      "cell_type": "markdown",
      "source": [
        "Meghatározom a grafikonokat.\n"
      ],
      "metadata": {
        "nteract": {
          "transient": {
            "deleting": false
          }
        }
      }
    },
    {
      "cell_type": "code",
      "source": [
        "p.line(t, v_hu_c_pop, legend_label='Magyar betegek', color='red')\n",
        "p.line(t, v_hu_r_pop, legend_label='Magyar gyógyultak', line_dash='dashed', color='blue')\n",
        "p.line(t, v_hu_d_pop, legend_label='Magyar halottak', line_dash='dotted', color='black')\n",
        "\n",
        "p.line(t, v_de_c_pop, legend_label='Német betegek', color='purple')\n",
        "p.line(t, v_de_r_pop, legend_label='Német gyógyultak', line_dash='dashed', color='green')\n",
        "p.line(t, v_de_d_pop, legend_label='Német halottak', line_dash='dotted', color='orangered')\n"
      ],
      "outputs": [],
      "execution_count": null,
      "metadata": {
        "collapsed": true,
        "jupyter": {
          "source_hidden": false,
          "outputs_hidden": false
        },
        "nteract": {
          "transient": {
            "deleting": false
          }
        }
      }
    },
    {
      "cell_type": "markdown",
      "source": [
        "A magyarázat fent lesz balra.\n"
      ],
      "metadata": {
        "nteract": {
          "transient": {
            "deleting": false
          }
        }
      }
    },
    {
      "cell_type": "code",
      "source": [
        "p.legend.location='top_left'\n"
      ],
      "outputs": [],
      "execution_count": null,
      "metadata": {
        "collapsed": true,
        "jupyter": {
          "source_hidden": false,
          "outputs_hidden": false
        },
        "nteract": {
          "transient": {
            "deleting": false
          }
        }
      }
    },
    {
      "cell_type": "markdown",
      "source": [
        "Ha lementenénk html fájlba, akkor így tennénk: \"output_file('./COVID_19/templates/COVID_19.html')\"\n"
      ],
      "metadata": {
        "nteract": {
          "transient": {
            "deleting": false
          }
        }
      }
    },
    {
      "cell_type": "markdown",
      "source": [
        "És a grafikon...\n"
      ],
      "metadata": {
        "nteract": {
          "transient": {
            "deleting": false
          }
        }
      }
    },
    {
      "cell_type": "code",
      "source": [
        "show(p)\n"
      ],
      "outputs": [],
      "execution_count": null,
      "metadata": {
        "collapsed": true,
        "jupyter": {
          "source_hidden": false,
          "outputs_hidden": false
        },
        "nteract": {
          "transient": {
            "deleting": false
          }
        }
      }
    },
    {
      "cell_type": "markdown",
      "source": [
        "Köszönöm a figyelmet, és a kitartást!"
      ],
      "metadata": {
        "nteract": {
          "transient": {
            "deleting": false
          }
        }
      }
    }
  ],
  "metadata": {
    "kernelspec": {
      "argv": [
        "/usr/bin/python3",
        "-m",
        "ipykernel_launcher",
        "-f",
        "{connection_file}"
      ],
      "display_name": "Python 3",
      "language": "python",
      "name": "python3"
    }
  },
  "nbformat": 4,
  "nbformat_minor": 0
}